{
 "cells": [
  {
   "cell_type": "markdown",
   "metadata": {},
   "source": [
    "Creating a random list of Tuples\n",
    "1. Input: Create a list of tuples\n",
    "2. Loop through list and create dictonary graph_dict\n"
   ]
  },
  {
   "cell_type": "code",
   "execution_count": 16,
   "metadata": {},
   "outputs": [
    {
     "name": "stdout",
     "output_type": "stream",
     "text": [
      "[(9, 5), (4, 3), (2, 5), (4, 2), (9, 1), (6, 7), (6, 4), (4, 3), (9, 6)]\n"
     ]
    }
   ],
   "source": [
    "import random\n",
    "# lowest and highest boundary\n",
    "low = 1\n",
    "high = 9\n",
    "\n",
    "input = []\n",
    "for i in range (9): # range stands for number of tuples\n",
    "    tup1 = random.randint(low, high)\n",
    "    tup2 = random.randint(low, high)\n",
    "    while tup1 == tup2:\n",
    "        tup2 = random.randint(low, high)\n",
    "  \n",
    "    \n",
    "    input.append(tuple((tup1, tup2)))\n",
    "\n",
    "print(input)\n",
    "\n",
    "\n"
   ]
  },
  {
   "cell_type": "code",
   "execution_count": 19,
   "metadata": {},
   "outputs": [],
   "source": [
    "# fixed list of tuples as was given by Bipin\n",
    "\n",
    "inputTest = [(1, 2), (2, 6), (2, 7), (2, 3), (3, 4), (3, 5), (4, 5), (8, 9)]"
   ]
  },
  {
   "cell_type": "code",
   "execution_count": 22,
   "metadata": {},
   "outputs": [
    {
     "data": {
      "text/plain": [
       "{1: [2],\n",
       " 2: [1, 6, 7, 3],\n",
       " 6: [2],\n",
       " 7: [2],\n",
       " 3: [2, 4, 5],\n",
       " 4: [3, 5],\n",
       " 5: [3, 4],\n",
       " 8: [9],\n",
       " 9: [8]}"
      ]
     },
     "execution_count": 22,
     "metadata": {},
     "output_type": "execute_result"
    }
   ],
   "source": [
    "# create a dict from inputTest or any other list of tuples\n",
    "\n",
    "def graph(inputList):\n",
    "\n",
    "    gr_dict = {}\n",
    "\n",
    "    for k,v in inputList:\n",
    "        if k in gr_dict:\n",
    "            gr_dict[k].append(v)\n",
    "        else:\n",
    "            gr_dict[k] = [v]\n",
    "        \n",
    "        if v in gr_dict:\n",
    "            gr_dict[v].append(k)\n",
    "        else:\n",
    "            gr_dict[v] = [k]\n",
    "    \n",
    "    return gr_dict    \n",
    "        \n",
    "test_graph = graph(inputTest)\n",
    "test_graph"
   ]
  },
  {
   "cell_type": "markdown",
   "metadata": {},
   "source": [
    "Create function is_connected to check if nodes are coneected or not. Function should return TRUE or FALSE"
   ]
  },
  {
   "cell_type": "code",
   "execution_count": 23,
   "metadata": {},
   "outputs": [
    {
     "name": "stdout",
     "output_type": "stream",
     "text": [
      "[1]\n",
      "[2]\n",
      "[6, 7, 3]\n",
      "[7, 3]\n",
      "[3]\n",
      "[4, 5]\n",
      "[5]\n",
      "[1, 2, 6, 7, 3, 4, 5]\n"
     ]
    }
   ],
   "source": [
    "# Travel order with BFS\n",
    "\n",
    "def TravelOrder(graph, start):\n",
    "    queue = [start] # list that takes the nodes to check\n",
    "    visited = [start] # list that takes all visited nodes\n",
    "    \n",
    "    while( len(queue) > 0):\n",
    "        print(queue)\n",
    "        node = queue.pop(0)\n",
    "        \n",
    "        for child in graph[node]:\n",
    "            if child not in visited:\n",
    "                queue.append(child)\n",
    "                visited.append(child)\n",
    "    return visited\n",
    "\n",
    "print(TravelOrder(test_graph, 1))\n"
   ]
  },
  {
   "cell_type": "code",
   "execution_count": 24,
   "metadata": {},
   "outputs": [
    {
     "name": "stdout",
     "output_type": "stream",
     "text": [
      "[1]\n",
      "[2]\n",
      "[6, 7, 3]\n",
      "[6, 7, 4, 5]\n",
      "[6, 7, 4]\n",
      "[6, 7]\n",
      "[6]\n",
      "[1, 2, 6, 7, 3, 4, 5]\n"
     ]
    }
   ],
   "source": [
    "# Travel order with DFS \n",
    "def TravelOrder(graph, start):\n",
    "    queue = [start]\n",
    "    visited = [start]\n",
    "    \n",
    "    while( len(queue) > 0):\n",
    "        print(queue)\n",
    "        node = queue.pop() # only difference to aboves BFS is to take the end of the queue not the beginning\n",
    "        \n",
    "        for child in graph[node]:\n",
    "            if child not in visited:\n",
    "                queue.append(child)\n",
    "                visited.append(child)\n",
    "    return visited\n",
    "\n",
    "print(TravelOrder(test_graph, 1))"
   ]
  },
  {
   "cell_type": "code",
   "execution_count": 25,
   "metadata": {},
   "outputs": [
    {
     "name": "stdout",
     "output_type": "stream",
     "text": [
      "[1]\n",
      "[2]\n",
      "[6, 7, 3]\n"
     ]
    },
    {
     "data": {
      "text/plain": [
       "True"
      ]
     },
     "execution_count": 25,
     "metadata": {},
     "output_type": "execute_result"
    }
   ],
   "source": [
    "### check if two points are connected in graph (BFS)\n",
    "\n",
    "def is_connected(graph, start, end):\n",
    "     \n",
    "    queue = [start]\n",
    "    visited = [start]\n",
    "   \n",
    "    while( len(queue) > 0):\n",
    "        print(queue)\n",
    "        node = queue.pop(0)\n",
    "        \n",
    "        if node == end: # stop condition \n",
    "            return True\n",
    "        \n",
    "        for child in graph[node]:\n",
    "            if child not in visited:\n",
    "                queue.append(child)\n",
    "                visited.append(child)\n",
    "    return False\n",
    "\n",
    "is_connected(test_graph, 1, 6)\n"
   ]
  },
  {
   "cell_type": "code",
   "execution_count": 26,
   "metadata": {},
   "outputs": [
    {
     "name": "stdout",
     "output_type": "stream",
     "text": [
      "[1]\n",
      "[2]\n",
      "[6, 7, 3]\n",
      "[6, 7, 4, 5]\n",
      "[6, 7, 4]\n",
      "[6, 7]\n"
     ]
    },
    {
     "data": {
      "text/plain": [
       "True"
      ]
     },
     "execution_count": 26,
     "metadata": {},
     "output_type": "execute_result"
    }
   ],
   "source": [
    "### check if two points are connected in graph (DFS)\n",
    "\n",
    "def is_connected(graph, start, end):\n",
    "     \n",
    "    queue = [start]\n",
    "    visited = [start]\n",
    "   \n",
    "    while( len(queue) > 0):\n",
    "        print(queue)\n",
    "        node = queue.pop()\n",
    "        \n",
    "        if node == end:\n",
    "            return True\n",
    "        \n",
    "        for child in graph[node]:\n",
    "            if child not in visited:\n",
    "                queue.append(child)\n",
    "                visited.append(child)\n",
    "    return False\n",
    "\n",
    "is_connected(test_graph, 1, 7)"
   ]
  },
  {
   "cell_type": "markdown",
   "metadata": {},
   "source": [
    "Find shortest path"
   ]
  },
  {
   "cell_type": "code",
   "execution_count": 13,
   "metadata": {},
   "outputs": [],
   "source": [
    "def backtrace(parent, start, end):\n",
    "    path = [end]\n",
    "    while path[-1] != start:\n",
    "        path.append(parent[path[-1]])\n",
    "    path.reverse()\n",
    "    return path\n",
    "\n",
    "def shortest_path(graph, start, end):\n",
    "    parent = {} \n",
    "    queue = [start]\n",
    "    visited = [start]\n",
    "   \n",
    "    while( len(queue) > 0):\n",
    "        \n",
    "        node = queue.pop()\n",
    "        \n",
    "        if node == end:\n",
    "            print(backtrace(parent, start, end))\n",
    "        \n",
    "        for child in graph[node]:\n",
    "            if child not in visited:\n",
    "                parent[child] = node\n",
    "                queue.append(child)\n",
    "                visited.append(child)\n",
    "\n",
    "    print(\"not connected\")\n",
    "    \n",
    "        \n",
    "    "
   ]
  },
  {
   "cell_type": "code",
   "execution_count": 27,
   "metadata": {},
   "outputs": [
    {
     "name": "stdout",
     "output_type": "stream",
     "text": [
      "not connected\n"
     ]
    }
   ],
   "source": [
    "shortest_path(test_graph, 1, 9)\n"
   ]
  },
  {
   "cell_type": "code",
   "execution_count": null,
   "metadata": {},
   "outputs": [],
   "source": []
  }
 ],
 "metadata": {
  "kernelspec": {
   "display_name": "Python 3",
   "language": "python",
   "name": "python3"
  },
  "language_info": {
   "codemirror_mode": {
    "name": "ipython",
    "version": 3
   },
   "file_extension": ".py",
   "mimetype": "text/x-python",
   "name": "python",
   "nbconvert_exporter": "python",
   "pygments_lexer": "ipython3",
   "version": "3.7.1"
  }
 },
 "nbformat": 4,
 "nbformat_minor": 2
}
